{
 "cells": [
  {
   "metadata": {},
   "cell_type": "markdown",
   "source": [
    "# TSMixer\n",
    "\n",
    "Importing the necessary libraries and setting global variables for later use:"
   ],
   "id": "b622a6d4736727c4"
  },
  {
   "cell_type": "code",
   "execution_count": 13,
   "id": "initial_id",
   "metadata": {
    "ExecuteTime": {
     "end_time": "2024-08-12T17:06:51.518489Z",
     "start_time": "2024-08-12T17:06:51.475836Z"
    }
   },
   "outputs": [
    {
     "name": "stdout",
     "output_type": "stream",
     "text": [
      "The autoreload extension is already loaded. To reload it, use:\n",
      "  %reload_ext autoreload\n"
     ]
    }
   ],
   "source": [
    "%load_ext autoreload\n",
    "%autoreload 2\n",
    "\n",
    "from darts.dataprocessing.transformers import StaticCovariatesTransformer\n",
    "from darts.utils.likelihood_models import QuantileRegression\n",
    "from darts.dataprocessing.transformers import Scaler\n",
    "from darts.dataprocessing.pipeline import Pipeline\n",
    "from dateutil.relativedelta import relativedelta\n",
    "from darts.models import TiDEModel, TSMixerModel\n",
    "from darts import TimeSeries\n",
    "import pandas as pd\n",
    "pd.options.mode.chained_assignment = None\n",
    "import torch\n",
    "torch.set_float32_matmul_precision('high')\n",
    "import utils\n",
    "\n",
    "import warnings\n",
    "warnings.filterwarnings(\"ignore\")\n",
    "\n",
    "DATASET = \"hf://datasets/zaai-ai/time_series_datasets/data.csv\"\n",
    "\n",
    "NUM_FOLDS = 4\n",
    "\n",
    "TIME_COL = \"Date\"\n",
    "TARGET = \"visits\"\n",
    "STATIC_COV = [\"static_1\", \"static_2\", \"static_3\", \"static_4\"]\n",
    "DYNAMIC_COV = [\"CPI\", \"Inflation_Rate\", \"GDP\"]\n",
    "\n",
    "FORECAST_HORIZON = 6 # months\n",
    "FREQ = \"MS\"\n",
    "\n",
    "SCALER = Scaler()\n",
    "TRANSFORMER = StaticCovariatesTransformer()\n",
    "PIPELINE = Pipeline([SCALER, TRANSFORMER])"
   ]
  },
  {
   "metadata": {},
   "cell_type": "markdown",
   "source": "## Loading of the dataset and preprocessing",
   "id": "7b7673475963ce11"
  },
  {
   "cell_type": "code",
   "execution_count": 14,
   "id": "856a5062705237b4",
   "metadata": {
    "ExecuteTime": {
     "end_time": "2024-08-12T17:06:52.643487Z",
     "start_time": "2024-08-12T17:06:51.519547Z"
    }
   },
   "outputs": [],
   "source": [
    "# load data\n",
    "df = pd.read_csv(DATASET).drop(columns=[\"Unnamed: 0\"])\n",
    "df[TIME_COL] = pd.to_datetime(df[TIME_COL])\n",
    "df[TARGET] = df[TARGET].replace(0.0, 0.01)\n",
    "df[TARGET] = df[TARGET].round(2)"
   ]
  },
  {
   "cell_type": "code",
   "execution_count": 15,
   "id": "ee37c18f598b4fb7",
   "metadata": {
    "ExecuteTime": {
     "end_time": "2024-08-12T17:06:52.712910Z",
     "start_time": "2024-08-12T17:06:52.645815Z"
    }
   },
   "outputs": [
    {
     "name": "stdout",
     "output_type": "stream",
     "text": [
      "Distinct number of time series: 304\n"
     ]
    },
    {
     "data": {
      "text/html": [
       "<div>\n",
       "<style scoped>\n",
       "    .dataframe tbody tr th:only-of-type {\n",
       "        vertical-align: middle;\n",
       "    }\n",
       "\n",
       "    .dataframe tbody tr th {\n",
       "        vertical-align: top;\n",
       "    }\n",
       "\n",
       "    .dataframe thead th {\n",
       "        text-align: right;\n",
       "    }\n",
       "</style>\n",
       "<table border=\"1\" class=\"dataframe\">\n",
       "  <thead>\n",
       "    <tr style=\"text-align: right;\">\n",
       "      <th></th>\n",
       "      <th>Date</th>\n",
       "      <th>unique_id</th>\n",
       "      <th>visits</th>\n",
       "      <th>CPI</th>\n",
       "      <th>Inflation_Rate</th>\n",
       "      <th>GDP</th>\n",
       "      <th>static_1</th>\n",
       "      <th>static_2</th>\n",
       "      <th>static_3</th>\n",
       "      <th>static_4</th>\n",
       "    </tr>\n",
       "  </thead>\n",
       "  <tbody>\n",
       "    <tr>\n",
       "      <th>0</th>\n",
       "      <td>1998-01-01</td>\n",
       "      <td>AAAHol</td>\n",
       "      <td>2015.44</td>\n",
       "      <td>67.4</td>\n",
       "      <td>0.009</td>\n",
       "      <td>3.996740e+11</td>\n",
       "      <td>A</td>\n",
       "      <td>A</td>\n",
       "      <td>A</td>\n",
       "      <td>Hol</td>\n",
       "    </tr>\n",
       "    <tr>\n",
       "      <th>1</th>\n",
       "      <td>1998-02-01</td>\n",
       "      <td>AAAHol</td>\n",
       "      <td>514.34</td>\n",
       "      <td>67.4</td>\n",
       "      <td>0.009</td>\n",
       "      <td>3.996740e+11</td>\n",
       "      <td>A</td>\n",
       "      <td>A</td>\n",
       "      <td>A</td>\n",
       "      <td>Hol</td>\n",
       "    </tr>\n",
       "    <tr>\n",
       "      <th>2</th>\n",
       "      <td>1998-03-01</td>\n",
       "      <td>AAAHol</td>\n",
       "      <td>532.10</td>\n",
       "      <td>67.4</td>\n",
       "      <td>0.009</td>\n",
       "      <td>3.996740e+11</td>\n",
       "      <td>A</td>\n",
       "      <td>A</td>\n",
       "      <td>A</td>\n",
       "      <td>Hol</td>\n",
       "    </tr>\n",
       "    <tr>\n",
       "      <th>3</th>\n",
       "      <td>1998-04-01</td>\n",
       "      <td>AAAHol</td>\n",
       "      <td>534.06</td>\n",
       "      <td>67.4</td>\n",
       "      <td>0.009</td>\n",
       "      <td>3.996740e+11</td>\n",
       "      <td>A</td>\n",
       "      <td>A</td>\n",
       "      <td>A</td>\n",
       "      <td>Hol</td>\n",
       "    </tr>\n",
       "    <tr>\n",
       "      <th>4</th>\n",
       "      <td>1998-05-01</td>\n",
       "      <td>AAAHol</td>\n",
       "      <td>505.22</td>\n",
       "      <td>67.4</td>\n",
       "      <td>0.009</td>\n",
       "      <td>3.996740e+11</td>\n",
       "      <td>A</td>\n",
       "      <td>A</td>\n",
       "      <td>A</td>\n",
       "      <td>Hol</td>\n",
       "    </tr>\n",
       "    <tr>\n",
       "      <th>...</th>\n",
       "      <td>...</td>\n",
       "      <td>...</td>\n",
       "      <td>...</td>\n",
       "      <td>...</td>\n",
       "      <td>...</td>\n",
       "      <td>...</td>\n",
       "      <td>...</td>\n",
       "      <td>...</td>\n",
       "      <td>...</td>\n",
       "      <td>...</td>\n",
       "    </tr>\n",
       "    <tr>\n",
       "      <th>69109</th>\n",
       "      <td>2016-08-01</td>\n",
       "      <td>GBDOth</td>\n",
       "      <td>0.01</td>\n",
       "      <td>109.1</td>\n",
       "      <td>0.013</td>\n",
       "      <td>1.207580e+12</td>\n",
       "      <td>G</td>\n",
       "      <td>B</td>\n",
       "      <td>D</td>\n",
       "      <td>Oth</td>\n",
       "    </tr>\n",
       "    <tr>\n",
       "      <th>69110</th>\n",
       "      <td>2016-09-01</td>\n",
       "      <td>GBDOth</td>\n",
       "      <td>0.01</td>\n",
       "      <td>109.1</td>\n",
       "      <td>0.013</td>\n",
       "      <td>1.207580e+12</td>\n",
       "      <td>G</td>\n",
       "      <td>B</td>\n",
       "      <td>D</td>\n",
       "      <td>Oth</td>\n",
       "    </tr>\n",
       "    <tr>\n",
       "      <th>69111</th>\n",
       "      <td>2016-10-01</td>\n",
       "      <td>GBDOth</td>\n",
       "      <td>0.01</td>\n",
       "      <td>109.1</td>\n",
       "      <td>0.013</td>\n",
       "      <td>1.207580e+12</td>\n",
       "      <td>G</td>\n",
       "      <td>B</td>\n",
       "      <td>D</td>\n",
       "      <td>Oth</td>\n",
       "    </tr>\n",
       "    <tr>\n",
       "      <th>69112</th>\n",
       "      <td>2016-11-01</td>\n",
       "      <td>GBDOth</td>\n",
       "      <td>0.01</td>\n",
       "      <td>109.1</td>\n",
       "      <td>0.013</td>\n",
       "      <td>1.207580e+12</td>\n",
       "      <td>G</td>\n",
       "      <td>B</td>\n",
       "      <td>D</td>\n",
       "      <td>Oth</td>\n",
       "    </tr>\n",
       "    <tr>\n",
       "      <th>69113</th>\n",
       "      <td>2016-12-01</td>\n",
       "      <td>GBDOth</td>\n",
       "      <td>0.01</td>\n",
       "      <td>109.1</td>\n",
       "      <td>0.013</td>\n",
       "      <td>1.207580e+12</td>\n",
       "      <td>G</td>\n",
       "      <td>B</td>\n",
       "      <td>D</td>\n",
       "      <td>Oth</td>\n",
       "    </tr>\n",
       "  </tbody>\n",
       "</table>\n",
       "<p>69114 rows × 10 columns</p>\n",
       "</div>"
      ],
      "text/plain": [
       "            Date unique_id   visits    CPI  Inflation_Rate           GDP  \\\n",
       "0     1998-01-01    AAAHol  2015.44   67.4           0.009  3.996740e+11   \n",
       "1     1998-02-01    AAAHol   514.34   67.4           0.009  3.996740e+11   \n",
       "2     1998-03-01    AAAHol   532.10   67.4           0.009  3.996740e+11   \n",
       "3     1998-04-01    AAAHol   534.06   67.4           0.009  3.996740e+11   \n",
       "4     1998-05-01    AAAHol   505.22   67.4           0.009  3.996740e+11   \n",
       "...          ...       ...      ...    ...             ...           ...   \n",
       "69109 2016-08-01    GBDOth     0.01  109.1           0.013  1.207580e+12   \n",
       "69110 2016-09-01    GBDOth     0.01  109.1           0.013  1.207580e+12   \n",
       "69111 2016-10-01    GBDOth     0.01  109.1           0.013  1.207580e+12   \n",
       "69112 2016-11-01    GBDOth     0.01  109.1           0.013  1.207580e+12   \n",
       "69113 2016-12-01    GBDOth     0.01  109.1           0.013  1.207580e+12   \n",
       "\n",
       "      static_1 static_2 static_3 static_4  \n",
       "0            A        A        A      Hol  \n",
       "1            A        A        A      Hol  \n",
       "2            A        A        A      Hol  \n",
       "3            A        A        A      Hol  \n",
       "4            A        A        A      Hol  \n",
       "...        ...      ...      ...      ...  \n",
       "69109        G        B        D      Oth  \n",
       "69110        G        B        D      Oth  \n",
       "69111        G        B        D      Oth  \n",
       "69112        G        B        D      Oth  \n",
       "69113        G        B        D      Oth  \n",
       "\n",
       "[69114 rows x 10 columns]"
      ]
     },
     "execution_count": 15,
     "metadata": {},
     "output_type": "execute_result"
    }
   ],
   "source": [
    "print(f\"Distinct number of time series: {len(df['unique_id'].unique())}\")\n",
    "df"
   ]
  },
  {
   "cell_type": "code",
   "execution_count": 16,
   "id": "5da8eadbebf07550",
   "metadata": {
    "ExecuteTime": {
     "end_time": "2024-08-12T17:06:52.768035Z",
     "start_time": "2024-08-12T17:06:52.715116Z"
    }
   },
   "outputs": [
    {
     "name": "stdout",
     "output_type": "stream",
     "text": [
      "Initial date: 1998-01-01 00:00:00\n",
      "End date: 2016-12-01 00:00:00\n",
      "\n",
      "25 percentile date: 2002-10-01 00:00:00\n",
      "\n",
      "Total of years: 18.92\n"
     ]
    }
   ],
   "source": [
    "print(f\"Initial date: {df[TIME_COL].min()}\")\n",
    "end_date = df[TIME_COL].max()\n",
    "print(f\"End date: {end_date}\\n\")\n",
    "\n",
    "print(f\"25 percentile date: {df[TIME_COL].quantile(0.25)}\\n\")\n",
    "\n",
    "# Total of years\n",
    "print(f\"Total of years: {round((end_date-df[TIME_COL].min()).days / 365.25, 2)}\")"
   ]
  },
  {
   "metadata": {},
   "cell_type": "markdown",
   "source": "## Creating the folds for the cross-validation",
   "id": "56334a6e0946ffe0"
  },
  {
   "cell_type": "code",
   "execution_count": 17,
   "id": "110d1e0edae3be8b",
   "metadata": {
    "ExecuteTime": {
     "end_time": "2024-08-12T17:06:53.681403Z",
     "start_time": "2024-08-12T17:06:52.769633Z"
    }
   },
   "outputs": [
    {
     "name": "stdout",
     "output_type": "stream",
     "text": [
      "Fold 1:\n",
      "Months for training: 204 from 1998-01-01 to 2014-12-01\n",
      "Months for testing: 6 from 2015-01-01 to 2015-06-01\n",
      "\n",
      "Fold 2:\n",
      "Months for training: 210 from 1998-01-01 to 2015-06-01\n",
      "Months for testing: 6 from 2015-07-01 to 2015-12-01\n",
      "\n",
      "Fold 3:\n",
      "Months for training: 216 from 1998-01-01 to 2015-12-01\n",
      "Months for testing: 6 from 2016-01-01 to 2016-06-01\n",
      "\n",
      "Fold 4:\n",
      "Months for training: 222 from 1998-01-01 to 2016-06-01\n",
      "Months for testing: 6 from 2016-07-01 to 2016-12-01\n",
      "\n"
     ]
    }
   ],
   "source": [
    "folds = []\n",
    "for i in range(NUM_FOLDS, 0, -1):\n",
    "    start_date = end_date - relativedelta(months=FORECAST_HORIZON*i)\n",
    "    end_date_fold = start_date + relativedelta(months=FORECAST_HORIZON)\n",
    "\n",
    "    fold = {\n",
    "        \"start_date\": start_date,\n",
    "        \"end_date\": end_date_fold,\n",
    "        \"train\": None,\n",
    "        \"test\": None,\n",
    "        \"df\": None,\n",
    "        \"predictions\": {\n",
    "            \"tsmixer\": None,\n",
    "            \"tide\": None,\n",
    "        }\n",
    "    }\n",
    "\n",
    "    fold[\"train\"] = df[df[TIME_COL] <= fold[\"start_date\"]]\n",
    "    fold[\"test\"] = df[(df[TIME_COL] > fold[\"start_date\"]) & (df[TIME_COL] <= fold[\"end_date\"])]\n",
    "    fold[\"df\"] = df[df[TIME_COL] <= fold[\"end_date\"]]\n",
    "    folds.append(fold)\n",
    "    \n",
    "    \n",
    "for i,fold in enumerate(folds):\n",
    "    print(f\"Fold {i+1}:\")\n",
    "    print(f\"Months for training: {len(fold['train'][TIME_COL].unique())} from {min(fold['train'][TIME_COL]).date()} to {max(fold['train'][TIME_COL]).date()}\")\n",
    "    print(f\"Months for testing: {len(fold['test'][TIME_COL].unique())} from {min(fold['test'][TIME_COL]).date()} to {max(fold['test'][TIME_COL]).date()}\\n\")"
   ]
  },
  {
   "cell_type": "markdown",
   "id": "5b7cc71995e5c24e",
   "metadata": {},
   "source": [
    "# TSMixer\n",
    "\n",
    "Now we will execute the TSMixer model for each fold:"
   ]
  },
  {
   "cell_type": "code",
   "execution_count": 18,
   "id": "67c23fdafff226ca",
   "metadata": {
    "ExecuteTime": {
     "end_time": "2024-08-12T17:06:53.720896Z",
     "start_time": "2024-08-12T17:06:53.682653Z"
    }
   },
   "outputs": [],
   "source": [
    "# RMSE: 130.50653994006464\n",
    "TSMixer_params = {\n",
    "    \"input_chunk_length\": 10,\n",
    "    \"output_chunk_length\": FORECAST_HORIZON,\n",
    "    \"hidden_size\": 16,\n",
    "    \"ff_size\": 8,\n",
    "    \"num_blocks\": 3,\n",
    "    \"activation\": 'LeakyReLU',\n",
    "    \"dropout\": 0.35,\n",
    "    \"normalize_before\": False,\n",
    "    \"batch_size\": 64,\n",
    "    \"n_epochs\": 30,\n",
    "    \"likelihood\": QuantileRegression(quantiles=[0.25, 0.5, 0.75]),\n",
    "    \"random_state\": 42,\n",
    "    \"use_static_covariates\": True,\n",
    "    \"optimizer_kwargs\": {'lr': 0.001},\n",
    "    \"use_reversible_instance_norm\": True,\n",
    "}"
   ]
  },
  {
   "cell_type": "code",
   "id": "ec44c7d0083d0c9a",
   "metadata": {},
   "source": [
    "print(\"Executing TSMixer folds predictions...\\n\")\n",
    "for i,fold in enumerate(folds):    \n",
    "    train_darts = TimeSeries.from_group_dataframe(\n",
    "            df=fold['train'],\n",
    "            group_cols=STATIC_COV,\n",
    "            time_col=TIME_COL,\n",
    "            value_cols=TARGET,\n",
    "            freq=FREQ,\n",
    "            fill_missing_dates=True,\n",
    "            fillna_value=0)\n",
    "    \n",
    "    dynamic_covariates = utils.create_dynamic_covariates(train_darts,fold['df'],FORECAST_HORIZON,DYNAMIC_COV)\n",
    "    \n",
    "    # scale covariates\n",
    "    dynamic_covariates_transformed = SCALER.fit_transform(dynamic_covariates)\n",
    "    \n",
    "    # scale data and transform static +covariates\n",
    "    data_transformed = PIPELINE.fit_transform(train_darts)\n",
    "    \n",
    "    tsmixer = TSMixerModel(**TSMixer_params)\n",
    "    tsmixer.fit(data_transformed, future_covariates=dynamic_covariates_transformed, verbose=False)\n",
    "    pred = PIPELINE.inverse_transform(tsmixer.predict(n=FORECAST_HORIZON, series=data_transformed, future_covariates=dynamic_covariates_transformed, num_samples=50))    \n",
    "    fold['predictions']['tsmixer'] = utils.transform_predictions_to_pandas(pred, TARGET, train_darts, [0.25, 0.5, 0.75])"
   ],
   "outputs": [],
   "execution_count": null
  },
  {
   "cell_type": "markdown",
   "id": "66328f11677e0d17",
   "metadata": {},
   "source": [
    "# TiDE\n",
    "\n",
    "To compare the results, we will use the TiDE model:"
   ]
  },
  {
   "cell_type": "code",
   "execution_count": 20,
   "id": "b61fc9fc13d71495",
   "metadata": {
    "ExecuteTime": {
     "end_time": "2024-08-12T18:24:21.487396Z",
     "start_time": "2024-08-12T18:24:21.448674Z"
    }
   },
   "outputs": [],
   "source": [
    "# RMSE: 139.9541525028933\n",
    "TiDE_params = {\n",
    "    \"input_chunk_length\": 4,\n",
    "     'output_chunk_length': FORECAST_HORIZON,\n",
    "    \"num_encoder_layers\": 2,\n",
    "    \"num_decoder_layers\": 6,\n",
    "    \"decoder_output_dim\": 15,\n",
    "    \"hidden_size\": 16,\n",
    "    \"temporal_width_past\": 8,\n",
    "    \"temporal_width_future\": 8,\n",
    "    \"temporal_decoder_hidden\": 16,\n",
    "    \"dropout\": 0.15,\n",
    "    \"batch_size\": 64,\n",
    "    \"n_epochs\": 30,\n",
    "     'likelihood': QuantileRegression(quantiles=[0.25, 0.5, 0.75]),\n",
    "     'random_state': 42,\n",
    "     'use_static_covariates': True,\n",
    "    \"optimizer_kwargs\": {'lr': 0.001},\n",
    "    \"use_reversible_instance_norm\": False,\n",
    "}"
   ]
  },
  {
   "cell_type": "code",
   "id": "5d0b4745d20a8674",
   "metadata": {},
   "source": [
    "print(\"Executing TiDE folds predictions...\\n\")\n",
    "for i,fold in enumerate(folds):    \n",
    "    train_darts = TimeSeries.from_group_dataframe(\n",
    "            df=fold['train'],\n",
    "            group_cols=STATIC_COV,\n",
    "            time_col=TIME_COL,\n",
    "            value_cols=TARGET,\n",
    "            freq=FREQ,\n",
    "            fill_missing_dates=True,\n",
    "            fillna_value=0)\n",
    "\n",
    "    dynamic_covariates = utils.create_dynamic_covariates(train_darts,fold['df'],FORECAST_HORIZON,DYNAMIC_COV)\n",
    "    \n",
    "    # scale covariates\n",
    "    dynamic_covariates_transformed = SCALER.fit_transform(dynamic_covariates)\n",
    "    \n",
    "    # scale data and transform static +covariates\n",
    "    data_transformed = PIPELINE.fit_transform(train_darts)\n",
    "    \n",
    "    tide = TiDEModel(**TiDE_params)\n",
    "    tide.fit(data_transformed, future_covariates=dynamic_covariates_transformed, verbose=False)\n",
    "    pred = PIPELINE.inverse_transform(tide.predict(n=FORECAST_HORIZON, series=data_transformed, future_covariates=dynamic_covariates_transformed, num_samples=50))    \n",
    "    fold['predictions']['tide'] = utils.transform_predictions_to_pandas(pred, TARGET, train_darts, [0.25, 0.5, 0.75])"
   ],
   "outputs": [],
   "execution_count": null
  },
  {
   "cell_type": "markdown",
   "id": "e526aa836b31ea7e",
   "metadata": {},
   "source": [
    "## Evaluation\n",
    "\n",
    "Now let's both models and compare the results:"
   ]
  },
  {
   "cell_type": "code",
   "execution_count": 22,
   "id": "3e09e09df8fe43fd",
   "metadata": {
    "ExecuteTime": {
     "end_time": "2024-08-12T19:22:32.371359Z",
     "start_time": "2024-08-12T19:22:32.324563Z"
    }
   },
   "outputs": [],
   "source": [
    "tide_forecasts = []\n",
    "tsmixer_forecasts = []\n",
    "tests = []\n",
    "\n",
    "for i,fold in enumerate(folds):\n",
    "    tsmixer_forecasts.append(fold['predictions']['tsmixer'])\n",
    "    tide_forecasts.append(fold['predictions']['tide'])\n",
    "    tests.append(fold['test'])"
   ]
  },
  {
   "cell_type": "code",
   "execution_count": 23,
   "id": "a2724dcd7659812f",
   "metadata": {
    "ExecuteTime": {
     "end_time": "2024-08-12T19:22:32.416725Z",
     "start_time": "2024-08-12T19:22:32.372522Z"
    }
   },
   "outputs": [],
   "source": [
    "top_25 = df.groupby(['unique_id']).agg({TARGET: 'sum'}).reset_index().sort_values(by=TARGET,ascending=False).head(25)"
   ]
  },
  {
   "cell_type": "code",
   "execution_count": 24,
   "id": "8e36514d79757c8c",
   "metadata": {
    "ExecuteTime": {
     "end_time": "2024-08-12T19:22:32.620890Z",
     "start_time": "2024-08-12T19:22:32.418023Z"
    }
   },
   "outputs": [
    {
     "data": {
      "image/png": "[encoded data removed]",
      "text/plain": [
       "<Figure size 1400x800 with 1 Axes>"
      ]
     },
     "metadata": {},
     "output_type": "display_data"
    }
   ],
   "source": [
    "utils.plot_model_comparison([\"TSMixer\", \"TiDE\"],\n",
    "                            [tsmixer_forecasts, tide_forecasts],\n",
    "                            tests, FORECAST_HORIZON,TARGET,\n",
    "                            top = top_25)"
   ]
  }
 ],
 "metadata": {
  "kernelspec": {
   "display_name": "Python 3 (ipykernel)",
   "language": "python",
   "name": "python3"
  },
  "language_info": {
   "codemirror_mode": {
    "name": "ipython",
    "version": 3
   },
   "file_extension": ".py",
   "mimetype": "text/x-python",
   "name": "python",
   "nbconvert_exporter": "python",
   "pygments_lexer": "ipython3",
   "version": "3.10.12"
  }
 },
 "nbformat": 4,
 "nbformat_minor": 5
}
