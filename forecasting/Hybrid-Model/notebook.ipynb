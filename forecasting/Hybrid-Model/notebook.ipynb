{
 "cells": [
  {
   "cell_type": "markdown",
   "id": "2383006f2d1c0cd2",
   "metadata": {},
   "source": [
    "# Hybrid Model\n",
    "\n",
    "Importing libraries"
   ]
  },
  {
   "cell_type": "code",
   "execution_count": null,
   "id": "199b2b56f4bdcf87",
   "metadata": {},
   "outputs": [],
   "source": [
    "%load_ext autoreload\n",
    "%autoreload 2\n",
    "\n",
    "import pandas as pd\n",
    "import torch\n",
    "import utils\n",
    "import warnings\n",
    "\n",
    "from chronos import ChronosPipeline\n",
    "from darts import TimeSeries\n",
    "from dateutil.relativedelta import relativedelta\n",
    "from darts.dataprocessing.pipeline import Pipeline\n",
    "from darts.dataprocessing.transformers import StaticCovariatesTransformer, Scaler\n",
    "from darts.models import TiDEModel\n",
    "from darts.utils.likelihood_models import QuantileRegression\n",
    "\n",
    "pd.options.mode.chained_assignment = None\n",
    "torch.set_float32_matmul_precision('high')\n",
    "warnings.filterwarnings(\"ignore\")"
   ]
  },
  {
   "cell_type": "markdown",
   "id": "cc77322e502c4262",
   "metadata": {},
   "source": [
    "Creating the global variables"
   ]
  },
  {
   "cell_type": "code",
   "execution_count": 1,
   "id": "initial_id",
   "metadata": {
    "ExecuteTime": {
     "end_time": "2024-07-23T17:01:54.462092Z",
     "start_time": "2024-07-23T17:01:47.743367Z"
    }
   },
   "outputs": [],
   "source": [
    "DATASET = \"hf://datasets/zaai-ai/time_series_datasets/data.csv\"\n",
    "RESIDUALS_DATASET = \"hf://datasets/zaai-ai/time_series_dataset_residuals/residuals.csv\"\n",
    "\n",
    "NUM_FOLDS = 4\n",
    "\n",
    "TIME_COL = \"Date\"\n",
    "TARGET = \"visits\"\n",
    "RESIDUALS_TARGET = \"residuals\"\n",
    "STATIC_COV = [\"static_1\", \"static_2\", \"static_3\", \"static_4\"]\n",
    "DYNAMIC_COV = [\"CPI\", \"Inflation_Rate\", \"GDP\"]\n",
    "\n",
    "FORECAST_HORIZON = 6 # months\n",
    "FREQ = \"MS\"\n",
    "\n",
    "SCALER = Scaler()\n",
    "TRANSFORMER = StaticCovariatesTransformer()\n",
    "PIPELINE = Pipeline([SCALER, TRANSFORMER])\n",
    "\n",
    "CHRONOS_ARCHITECTURE = (\"amazon/chronos-t5-large\",\"cuda\")\n",
    "\n",
    "TiDE_params= {\n",
    "    'input_chunk_length': 12,\n",
    "     'output_chunk_length': FORECAST_HORIZON,\n",
    "     'num_encoder_layers': 4,\n",
    "     'num_decoder_layers': 8,\n",
    "     'decoder_output_dim': 8,\n",
    "     'hidden_size': 8,\n",
    "     'temporal_width_past': 16,\n",
    "     'temporal_width_future': 8,\n",
    "     'temporal_decoder_hidden': 128,\n",
    "     'dropout': 0.2,\n",
    "     'batch_size': 16,\n",
    "     'n_epochs': 20,\n",
    "     'likelihood': QuantileRegression(quantiles=[0.25, 0.5, 0.75]),\n",
    "     'random_state': 42,\n",
    "     'use_static_covariates': True,\n",
    "     'optimizer_kwargs': {'lr': 0.001},\n",
    "     'use_reversible_instance_norm': False\n",
    "}\n",
    "\n",
    "tuned_TiDE_params= {\n",
    "    'input_chunk_length': 11,\n",
    "    'output_chunk_length': FORECAST_HORIZON,\n",
    "    'num_encoder_layers': 5,\n",
    "    'num_decoder_layers': 10,\n",
    "    'decoder_output_dim': 15,\n",
    "    'hidden_size': 5,\n",
    "    'temporal_width_past': 4,\n",
    "    'temporal_width_future': 10,\n",
    "    'temporal_decoder_hidden': 20,\n",
    "    'dropout': 0.15,\n",
    "    'batch_size': 128,\n",
    "    'n_epochs': 30,\n",
    "    'likelihood': QuantileRegression(quantiles=[0.25, 0.5, 0.75]),\n",
    "    'random_state': 42,\n",
    "    'use_static_covariates': True,\n",
    "    'optimizer_kwargs': {'lr': 0.001},\n",
    "    'use_reversible_instance_norm': True,\n",
    "}"
   ]
  },
  {
   "cell_type": "markdown",
   "id": "8ffcad49f1bcc949",
   "metadata": {},
   "source": [
    "## Loading of the dataset and preprocessing"
   ]
  },
  {
   "cell_type": "code",
   "execution_count": 2,
   "id": "856a5062705237b4",
   "metadata": {
    "ExecuteTime": {
     "end_time": "2024-07-23T17:01:56.147344Z",
     "start_time": "2024-07-23T17:01:54.463187Z"
    }
   },
   "outputs": [],
   "source": [
    "# load data\n",
    "df = pd.read_csv(DATASET).drop(columns=[\"Unnamed: 0\"])\n",
    "df[TIME_COL] = pd.to_datetime(df[TIME_COL])\n",
    "df[TARGET] = df[TARGET].replace(0.0, 0.01)\n",
    "df[TARGET] = df[TARGET].round(2)"
   ]
  },
  {
   "cell_type": "code",
   "execution_count": 3,
   "id": "ee37c18f598b4fb7",
   "metadata": {
    "ExecuteTime": {
     "end_time": "2024-07-23T17:01:56.190700Z",
     "start_time": "2024-07-23T17:01:56.148063Z"
    }
   },
   "outputs": [
    {
     "name": "stdout",
     "output_type": "stream",
     "text": [
      "Distinct number of time series: 304\n"
     ]
    },
    {
     "data": {
      "text/html": [
       "<div>\n",
       "<style scoped>\n",
       "    .dataframe tbody tr th:only-of-type {\n",
       "        vertical-align: middle;\n",
       "    }\n",
       "\n",
       "    .dataframe tbody tr th {\n",
       "        vertical-align: top;\n",
       "    }\n",
       "\n",
       "    .dataframe thead th {\n",
       "        text-align: right;\n",
       "    }\n",
       "</style>\n",
       "<table border=\"1\" class=\"dataframe\">\n",
       "  <thead>\n",
       "    <tr style=\"text-align: right;\">\n",
       "      <th></th>\n",
       "      <th>Date</th>\n",
       "      <th>unique_id</th>\n",
       "      <th>visits</th>\n",
       "      <th>CPI</th>\n",
       "      <th>Inflation_Rate</th>\n",
       "      <th>GDP</th>\n",
       "      <th>static_1</th>\n",
       "      <th>static_2</th>\n",
       "      <th>static_3</th>\n",
       "      <th>static_4</th>\n",
       "    </tr>\n",
       "  </thead>\n",
       "  <tbody>\n",
       "    <tr>\n",
       "      <th>0</th>\n",
       "      <td>1998-01-01</td>\n",
       "      <td>AAAHol</td>\n",
       "      <td>2015.44</td>\n",
       "      <td>67.4</td>\n",
       "      <td>0.009</td>\n",
       "      <td>3.996740e+11</td>\n",
       "      <td>A</td>\n",
       "      <td>A</td>\n",
       "      <td>A</td>\n",
       "      <td>Hol</td>\n",
       "    </tr>\n",
       "    <tr>\n",
       "      <th>1</th>\n",
       "      <td>1998-02-01</td>\n",
       "      <td>AAAHol</td>\n",
       "      <td>514.34</td>\n",
       "      <td>67.4</td>\n",
       "      <td>0.009</td>\n",
       "      <td>3.996740e+11</td>\n",
       "      <td>A</td>\n",
       "      <td>A</td>\n",
       "      <td>A</td>\n",
       "      <td>Hol</td>\n",
       "    </tr>\n",
       "    <tr>\n",
       "      <th>2</th>\n",
       "      <td>1998-03-01</td>\n",
       "      <td>AAAHol</td>\n",
       "      <td>532.10</td>\n",
       "      <td>67.4</td>\n",
       "      <td>0.009</td>\n",
       "      <td>3.996740e+11</td>\n",
       "      <td>A</td>\n",
       "      <td>A</td>\n",
       "      <td>A</td>\n",
       "      <td>Hol</td>\n",
       "    </tr>\n",
       "    <tr>\n",
       "      <th>3</th>\n",
       "      <td>1998-04-01</td>\n",
       "      <td>AAAHol</td>\n",
       "      <td>534.06</td>\n",
       "      <td>67.4</td>\n",
       "      <td>0.009</td>\n",
       "      <td>3.996740e+11</td>\n",
       "      <td>A</td>\n",
       "      <td>A</td>\n",
       "      <td>A</td>\n",
       "      <td>Hol</td>\n",
       "    </tr>\n",
       "    <tr>\n",
       "      <th>4</th>\n",
       "      <td>1998-05-01</td>\n",
       "      <td>AAAHol</td>\n",
       "      <td>505.22</td>\n",
       "      <td>67.4</td>\n",
       "      <td>0.009</td>\n",
       "      <td>3.996740e+11</td>\n",
       "      <td>A</td>\n",
       "      <td>A</td>\n",
       "      <td>A</td>\n",
       "      <td>Hol</td>\n",
       "    </tr>\n",
       "    <tr>\n",
       "      <th>...</th>\n",
       "      <td>...</td>\n",
       "      <td>...</td>\n",
       "      <td>...</td>\n",
       "      <td>...</td>\n",
       "      <td>...</td>\n",
       "      <td>...</td>\n",
       "      <td>...</td>\n",
       "      <td>...</td>\n",
       "      <td>...</td>\n",
       "      <td>...</td>\n",
       "    </tr>\n",
       "    <tr>\n",
       "      <th>69109</th>\n",
       "      <td>2016-08-01</td>\n",
       "      <td>GBDOth</td>\n",
       "      <td>0.01</td>\n",
       "      <td>109.1</td>\n",
       "      <td>0.013</td>\n",
       "      <td>1.207580e+12</td>\n",
       "      <td>G</td>\n",
       "      <td>B</td>\n",
       "      <td>D</td>\n",
       "      <td>Oth</td>\n",
       "    </tr>\n",
       "    <tr>\n",
       "      <th>69110</th>\n",
       "      <td>2016-09-01</td>\n",
       "      <td>GBDOth</td>\n",
       "      <td>0.01</td>\n",
       "      <td>109.1</td>\n",
       "      <td>0.013</td>\n",
       "      <td>1.207580e+12</td>\n",
       "      <td>G</td>\n",
       "      <td>B</td>\n",
       "      <td>D</td>\n",
       "      <td>Oth</td>\n",
       "    </tr>\n",
       "    <tr>\n",
       "      <th>69111</th>\n",
       "      <td>2016-10-01</td>\n",
       "      <td>GBDOth</td>\n",
       "      <td>0.01</td>\n",
       "      <td>109.1</td>\n",
       "      <td>0.013</td>\n",
       "      <td>1.207580e+12</td>\n",
       "      <td>G</td>\n",
       "      <td>B</td>\n",
       "      <td>D</td>\n",
       "      <td>Oth</td>\n",
       "    </tr>\n",
       "    <tr>\n",
       "      <th>69112</th>\n",
       "      <td>2016-11-01</td>\n",
       "      <td>GBDOth</td>\n",
       "      <td>0.01</td>\n",
       "      <td>109.1</td>\n",
       "      <td>0.013</td>\n",
       "      <td>1.207580e+12</td>\n",
       "      <td>G</td>\n",
       "      <td>B</td>\n",
       "      <td>D</td>\n",
       "      <td>Oth</td>\n",
       "    </tr>\n",
       "    <tr>\n",
       "      <th>69113</th>\n",
       "      <td>2016-12-01</td>\n",
       "      <td>GBDOth</td>\n",
       "      <td>0.01</td>\n",
       "      <td>109.1</td>\n",
       "      <td>0.013</td>\n",
       "      <td>1.207580e+12</td>\n",
       "      <td>G</td>\n",
       "      <td>B</td>\n",
       "      <td>D</td>\n",
       "      <td>Oth</td>\n",
       "    </tr>\n",
       "  </tbody>\n",
       "</table>\n",
       "<p>69114 rows × 10 columns</p>\n",
       "</div>"
      ],
      "text/plain": [
       "            Date unique_id   visits    CPI  Inflation_Rate           GDP  \\\n",
       "0     1998-01-01    AAAHol  2015.44   67.4           0.009  3.996740e+11   \n",
       "1     1998-02-01    AAAHol   514.34   67.4           0.009  3.996740e+11   \n",
       "2     1998-03-01    AAAHol   532.10   67.4           0.009  3.996740e+11   \n",
       "3     1998-04-01    AAAHol   534.06   67.4           0.009  3.996740e+11   \n",
       "4     1998-05-01    AAAHol   505.22   67.4           0.009  3.996740e+11   \n",
       "...          ...       ...      ...    ...             ...           ...   \n",
       "69109 2016-08-01    GBDOth     0.01  109.1           0.013  1.207580e+12   \n",
       "69110 2016-09-01    GBDOth     0.01  109.1           0.013  1.207580e+12   \n",
       "69111 2016-10-01    GBDOth     0.01  109.1           0.013  1.207580e+12   \n",
       "69112 2016-11-01    GBDOth     0.01  109.1           0.013  1.207580e+12   \n",
       "69113 2016-12-01    GBDOth     0.01  109.1           0.013  1.207580e+12   \n",
       "\n",
       "      static_1 static_2 static_3 static_4  \n",
       "0            A        A        A      Hol  \n",
       "1            A        A        A      Hol  \n",
       "2            A        A        A      Hol  \n",
       "3            A        A        A      Hol  \n",
       "4            A        A        A      Hol  \n",
       "...        ...      ...      ...      ...  \n",
       "69109        G        B        D      Oth  \n",
       "69110        G        B        D      Oth  \n",
       "69111        G        B        D      Oth  \n",
       "69112        G        B        D      Oth  \n",
       "69113        G        B        D      Oth  \n",
       "\n",
       "[69114 rows x 10 columns]"
      ]
     },
     "execution_count": 3,
     "metadata": {},
     "output_type": "execute_result"
    }
   ],
   "source": [
    "print(f\"Distinct number of time series: {len(df['unique_id'].unique())}\")\n",
    "df"
   ]
  },
  {
   "cell_type": "code",
   "execution_count": 4,
   "id": "5da8eadbebf07550",
   "metadata": {
    "ExecuteTime": {
     "end_time": "2024-07-23T17:01:56.225834Z",
     "start_time": "2024-07-23T17:01:56.191502Z"
    }
   },
   "outputs": [
    {
     "name": "stdout",
     "output_type": "stream",
     "text": [
      "Initial date: 1998-01-01 00:00:00\n",
      "End date: 2016-12-01 00:00:00\n",
      "\n",
      "25 percentile date: 2002-10-01 00:00:00\n",
      "\n",
      "Total of years: 18.92\n"
     ]
    }
   ],
   "source": [
    "print(f\"Initial date: {df[TIME_COL].min()}\")\n",
    "end_date = df[TIME_COL].max()\n",
    "print(f\"End date: {end_date}\\n\")\n",
    "\n",
    "print(f\"25 percentile date: {df[TIME_COL].quantile(0.25)}\\n\")\n",
    "\n",
    "# Total of years\n",
    "print(f\"Total of years: {round((end_date-df[TIME_COL].min()).days / 365.25, 2)}\")"
   ]
  },
  {
   "cell_type": "markdown",
   "id": "43417b434ed44a8c",
   "metadata": {},
   "source": [
    "## Creating the folds for the cross-validation"
   ]
  },
  {
   "cell_type": "code",
   "execution_count": 5,
   "id": "110d1e0edae3be8b",
   "metadata": {
    "ExecuteTime": {
     "end_time": "2024-07-23T17:01:56.660157Z",
     "start_time": "2024-07-23T17:01:56.227657Z"
    }
   },
   "outputs": [
    {
     "name": "stdout",
     "output_type": "stream",
     "text": [
      "Fold 1:\n",
      "Months for training: 204 from 1998-01-01 to 2014-12-01\n",
      "Months for testing: 6 from 2015-01-01 to 2015-06-01\n",
      "\n",
      "Fold 2:\n",
      "Months for training: 210 from 1998-01-01 to 2015-06-01\n",
      "Months for testing: 6 from 2015-07-01 to 2015-12-01\n",
      "\n",
      "Fold 3:\n",
      "Months for training: 216 from 1998-01-01 to 2015-12-01\n",
      "Months for testing: 6 from 2016-01-01 to 2016-06-01\n",
      "\n",
      "Fold 4:\n",
      "Months for training: 222 from 1998-01-01 to 2016-06-01\n",
      "Months for testing: 6 from 2016-07-01 to 2016-12-01\n",
      "\n"
     ]
    }
   ],
   "source": [
    "folds = []\n",
    "for i in range(NUM_FOLDS, 0, -1):\n",
    "    start_date = end_date - relativedelta(months=FORECAST_HORIZON*i)\n",
    "    end_date_fold = start_date + relativedelta(months=FORECAST_HORIZON)\n",
    "\n",
    "    fold = {\n",
    "        \"start_date\": start_date,\n",
    "        \"end_date\": end_date_fold,\n",
    "        \"train\": None,\n",
    "        \"test\": None,\n",
    "        \"df\": None,\n",
    "        \"predictions\": {\n",
    "            \"chronos\": None,\n",
    "            \"tide\": None,\n",
    "            \"hybrid\": {\n",
    "                \"default\": None,\n",
    "                \"tuned\": None\n",
    "            }\n",
    "        }\n",
    "    }\n",
    "\n",
    "    fold[\"train\"] = df[df[TIME_COL] <= fold[\"start_date\"]]\n",
    "    fold[\"test\"] = df[(df[TIME_COL] > fold[\"start_date\"]) & (df[TIME_COL] <= fold[\"end_date\"])]\n",
    "    fold[\"df\"] = df[df[TIME_COL] <= fold[\"end_date\"]]\n",
    "    folds.append(fold)\n",
    "    \n",
    "    \n",
    "for i,fold in enumerate(folds):\n",
    "    print(f\"Fold {i+1}:\")\n",
    "    print(f\"Months for training: {len(fold['train'][TIME_COL].unique())} from {min(fold['train'][TIME_COL]).date()} to {max(fold['train'][TIME_COL]).date()}\")\n",
    "    print(f\"Months for testing: {len(fold['test'][TIME_COL].unique())} from {min(fold['test'][TIME_COL]).date()} to {max(fold['test'][TIME_COL]).date()}\\n\")"
   ]
  },
  {
   "cell_type": "markdown",
   "id": "993f5b576f25a513",
   "metadata": {},
   "source": [
    "## Chronos\n",
    "\n",
    "Forecasting using the Chronos model:"
   ]
  },
  {
   "cell_type": "code",
   "execution_count": null,
   "id": "7b78d7810a6809d8",
   "metadata": {},
   "outputs": [],
   "source": [
    "for i,fold in enumerate(folds):\n",
    "    train_darts = TimeSeries.from_group_dataframe(\n",
    "            df=fold['train'],\n",
    "            group_cols=STATIC_COV,\n",
    "            time_col=TIME_COL,\n",
    "            value_cols=TARGET,\n",
    "            freq=FREQ,\n",
    "            fill_missing_dates=True,\n",
    "            fillna_value=0)\n",
    "        \n",
    "    # Load the Chronos pipeline\n",
    "    pipeline = ChronosPipeline.from_pretrained(\n",
    "        CHRONOS_ARCHITECTURE[0],\n",
    "        device_map=CHRONOS_ARCHITECTURE[1],\n",
    "        torch_dtype=torch.bfloat16)\n",
    "    \n",
    "    forecast = []\n",
    "    for ts in train_darts:\n",
    "        # Forecast\n",
    "        lower, mid, upper = utils.chronos_forecast(pipeline, ts.pd_dataframe().reset_index(), FORECAST_HORIZON, TARGET)\n",
    "        unique_id = \"\".join(str(ts.static_covariates[key].item()) for key in ts.static_covariates)\n",
    "        forecast.append(utils.convert_forecast_to_pandas([lower, mid, upper], fold['test'][fold['test']['unique_id'] == unique_id]))\n",
    "        \n",
    "    fold['predictions']['chronos'] = pd.concat(forecast)"
   ]
  },
  {
   "cell_type": "markdown",
   "id": "2d86f723561c1c56",
   "metadata": {},
   "source": [
    "### Hybrid Model\n",
    "\n",
    "Here we combine Chronos and TiDE: using chronos residuals to train TiDE and then combine the predicted residuals with the original chronos forecast."
   ]
  },
  {
   "cell_type": "code",
   "execution_count": null,
   "id": "712b7a23c1e94d53",
   "metadata": {},
   "outputs": [],
   "source": [
    "residuals = pd.read_csv(RESIDUALS_DATASET)\n",
    "residuals[TIME_COL] = pd.to_datetime(residuals[TIME_COL])\n",
    "\n",
    "for i,fold in enumerate(folds):\n",
    "    residuals_train = residuals[residuals[TIME_COL] <= fold['start_date']]\n",
    "    residuals_df = residuals[(residuals[TIME_COL] <= fold['end_date'])]\n",
    "    \n",
    "    residuals_darts = TimeSeries.from_group_dataframe(\n",
    "        df=residuals_train,\n",
    "        group_cols=STATIC_COV,\n",
    "        time_col=TIME_COL,\n",
    "        value_cols=RESIDUALS_TARGET,\n",
    "        freq=FREQ,\n",
    "        fill_missing_dates=True,\n",
    "        fillna_value=0)\n",
    "    \n",
    "    dynamic_covariates = utils.create_dynamic_covariates(residuals_darts,residuals_df,FORECAST_HORIZON, DYNAMIC_COV)\n",
    "    \n",
    "    # scale covariates\n",
    "    dynamic_covariates_transformed = SCALER.fit_transform(dynamic_covariates)\n",
    "    \n",
    "    # scale data and transform static covariates\n",
    "    data_transformed = PIPELINE.fit_transform(residuals_darts)\n",
    "    \n",
    "    # Default Model\n",
    "    residuals_tide = TiDEModel(**TiDE_params)\n",
    "    residuals_tide.fit(data_transformed, future_covariates=dynamic_covariates_transformed, verbose=False)\n",
    "    pred = PIPELINE.inverse_transform(residuals_tide.predict(n=FORECAST_HORIZON, series=data_transformed, future_covariates=dynamic_covariates_transformed, num_samples=50))    \n",
    "    residuals_forecast = utils.transform_predictions_to_pandas(pred, RESIDUALS_TARGET, residuals_darts, [0.25, 0.5, 0.75], convert=False)\n",
    "    fold['predictions']['hybrid']['default'] = utils.combine_predictions(fold['predictions']['chronos'], residuals_forecast)\n",
    "    \n",
    "    # Tuned Model\n",
    "    residuals_tide = TiDEModel(**tuned_TiDE_params)\n",
    "    residuals_tide.fit(data_transformed, future_covariates=dynamic_covariates_transformed, verbose=False)\n",
    "    pred = PIPELINE.inverse_transform(residuals_tide.predict(n=FORECAST_HORIZON, series=data_transformed, future_covariates=dynamic_covariates_transformed, num_samples=50))\n",
    "    residuals_forecast = utils.transform_predictions_to_pandas(pred, RESIDUALS_TARGET, residuals_darts, [0.25, 0.5, 0.75], convert=False)\n",
    "    fold['predictions']['hybrid']['tuned'] = utils.combine_predictions(fold['predictions']['chronos'], residuals_forecast)"
   ]
  },
  {
   "cell_type": "markdown",
   "id": "66328f11677e0d17",
   "metadata": {},
   "source": [
    "## TiDE\n",
    "Forecasting using the TiDE model:"
   ]
  },
  {
   "cell_type": "code",
   "execution_count": null,
   "id": "5d0b4745d20a8674",
   "metadata": {},
   "outputs": [],
   "source": [
    "for i,fold in enumerate(folds):    \n",
    "    train_darts = TimeSeries.from_group_dataframe(\n",
    "            df=fold['train'],\n",
    "            group_cols=STATIC_COV,\n",
    "            time_col=TIME_COL,\n",
    "            value_cols=TARGET,\n",
    "            freq=FREQ,\n",
    "            fill_missing_dates=True,\n",
    "            fillna_value=0)\n",
    "    \n",
    "    dynamic_covariates = utils.create_dynamic_covariates(train_darts,fold['df'],FORECAST_HORIZON,DYNAMIC_COV)\n",
    "    \n",
    "    # scale covariates\n",
    "    dynamic_covariates_transformed = SCALER.fit_transform(dynamic_covariates)\n",
    "    \n",
    "    # scale data and transform static +covariates\n",
    "    data_transformed = PIPELINE.fit_transform(train_darts)\n",
    "    \n",
    "    tide = TiDEModel(**TiDE_params)\n",
    "    tide.fit(data_transformed, future_covariates=dynamic_covariates_transformed, verbose=False)\n",
    "    pred = PIPELINE.inverse_transform(tide.predict(n=FORECAST_HORIZON, series=data_transformed, future_covariates=dynamic_covariates_transformed, num_samples=50))    \n",
    "    fold['predictions']['tide'] = utils.transform_predictions_to_pandas(pred, TARGET, train_darts, [0.25, 0.5, 0.75])"
   ]
  },
  {
   "cell_type": "markdown",
   "id": "e526aa836b31ea7e",
   "metadata": {},
   "source": [
    "# Evaluation"
   ]
  },
  {
   "cell_type": "code",
   "execution_count": 11,
   "id": "3e09e09df8fe43fd",
   "metadata": {
    "ExecuteTime": {
     "end_time": "2024-07-23T17:01:56.905465Z",
     "start_time": "2024-07-23T17:01:56.873796Z"
    }
   },
   "outputs": [],
   "source": [
    "chronos_forecasts = []\n",
    "tide_forecasts = []\n",
    "hybrid_forecasts_default = []\n",
    "hybrid_forecasts_tuned = []\n",
    "tests = []\n",
    "\n",
    "for i,fold in enumerate(folds):\n",
    "    chronos_forecasts.append(fold['predictions']['chronos'])\n",
    "    tide_forecasts.append(fold['predictions']['tide'])\n",
    "    hybrid_forecasts_default.append(fold['predictions']['hybrid']['default'])\n",
    "    hybrid_forecasts_tuned.append(fold['predictions']['hybrid']['tuned'])\n",
    "    tests.append(fold['test'])"
   ]
  },
  {
   "cell_type": "code",
   "execution_count": 12,
   "id": "a2724dcd7659812f",
   "metadata": {
    "ExecuteTime": {
     "end_time": "2024-07-23T17:01:56.944061Z",
     "start_time": "2024-07-23T17:01:56.906592Z"
    }
   },
   "outputs": [],
   "source": [
    "top_25 = df.groupby(['unique_id']).agg({TARGET: 'sum'}).reset_index().sort_values(by=TARGET,ascending=False).head(25)"
   ]
  },
  {
   "cell_type": "markdown",
   "id": "d3f45ba8b593fa9c",
   "metadata": {},
   "source": [
    "Default TiDE model predicting the residuals:"
   ]
  },
  {
   "cell_type": "code",
   "execution_count": 13,
   "id": "8e36514d79757c8c",
   "metadata": {
    "ExecuteTime": {
     "end_time": "2024-07-23T17:01:57.316278Z",
     "start_time": "2024-07-23T17:01:56.945033Z"
    }
   },
   "outputs": [
    {
     "data": {
      "image/png": "[encoded data removed]",
      "text/plain": [
       "<Figure size 1400x800 with 1 Axes>"
      ]
     },
     "metadata": {},
     "output_type": "display_data"
    }
   ],
   "source": [
    "utils.plot_model_comparison([\"Chronos\", \"TiDE\", \"Chronos + TiDE\"],\n",
    "                            [chronos_forecasts, tide_forecasts, hybrid_forecasts_default],\n",
    "                            tests, FORECAST_HORIZON,TARGET,\n",
    "                            top = top_25)"
   ]
  },
  {
   "cell_type": "markdown",
   "id": "8850abbeff184d8a",
   "metadata": {},
   "source": [
    "Tuned TiDE model predicting the residuals:"
   ]
  },
  {
   "cell_type": "code",
   "execution_count": 14,
   "id": "284499fc59fbe552",
   "metadata": {
    "ExecuteTime": {
     "end_time": "2024-07-23T17:01:57.602828Z",
     "start_time": "2024-07-23T17:01:57.325942Z"
    }
   },
   "outputs": [
    {
     "data": {
      "image/png": "[encoded data removed]",
      "text/plain": [
       "<Figure size 1400x800 with 1 Axes>"
      ]
     },
     "metadata": {},
     "output_type": "display_data"
    }
   ],
   "source": [
    "utils.plot_model_comparison([\"Chronos\", \"TiDE\", \"Chronos + TiDE\"],\n",
    "                            [chronos_forecasts, tide_forecasts, hybrid_forecasts_tuned],\n",
    "                            tests, FORECAST_HORIZON, TARGET,\n",
    "                            top = top_25)"
   ]
  }
 ],
 "metadata": {
  "kernelspec": {
   "display_name": "Python 3 (ipykernel)",
   "language": "python",
   "name": "python3"
  },
  "language_info": {
   "codemirror_mode": {
    "name": "ipython",
    "version": 3
   },
   "file_extension": ".py",
   "mimetype": "text/x-python",
   "name": "python",
   "nbconvert_exporter": "python",
   "pygments_lexer": "ipython3",
   "version": "3.10.12"
  }
 },
 "nbformat": 4,
 "nbformat_minor": 5
}
